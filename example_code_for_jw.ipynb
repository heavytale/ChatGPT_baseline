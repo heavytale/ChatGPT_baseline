{
 "cells": [
  {
   "cell_type": "code",
   "execution_count": 3,
   "id": "f27a9d5b",
   "metadata": {},
   "outputs": [],
   "source": [
    "#파일 불러오기\n",
    "import json\n",
    "import os\n",
    "\n",
    "pchat_path = \"/Users/mh_kang/Downloads/pchat\"\n",
    "\n",
    "def parse_data(path):\n",
    "    with open(path, 'r', encoding='utf-8') as file:\n",
    "        data = []\n",
    "        for line in file.readlines():\n",
    "            line = line.strip()\n",
    "\n",
    "            if len(line) == 0:\n",
    "                continue\n",
    "\n",
    "            space_idx = line.find(' ')\n",
    "            if space_idx == -1:\n",
    "                dialog_idx = int(line)\n",
    "            else:\n",
    "                dialog_idx = int(line[:space_idx])\n",
    "\n",
    "            if int(dialog_idx) == 1:\n",
    "                data.append({'persona_info': [], 'dialog': []})\n",
    "\n",
    "            dialog_line = line[space_idx + 1:].split('\\t')\n",
    "            dialog_line = [l.strip() for l in dialog_line]\n",
    "\n",
    "            if dialog_line[0].startswith('your persona:'):\n",
    "                persona_info = dialog_line[0].replace('your persona: ', '')\n",
    "                data[-1]['persona_info'].append(persona_info)\n",
    "\n",
    "            elif len(dialog_line) > 1:\n",
    "                data[-1]['dialog'].append(dialog_line[0])\n",
    "                data[-1]['dialog'].append(dialog_line[1])\n",
    "\n",
    "        return data"
   ]
  },
  {
   "cell_type": "code",
   "execution_count": 5,
   "id": "26a3285c",
   "metadata": {},
   "outputs": [],
   "source": [
    "train_persona = parse_data(os.path.join(pchat_path, \"train_self_revised.txt\"))\n",
    "valid_persona = parse_data(os.path.join(pchat_path, \"valid_self_revised.txt\"))"
   ]
  },
  {
   "cell_type": "code",
   "execution_count": 7,
   "id": "0e841718",
   "metadata": {},
   "outputs": [
    {
     "name": "stderr",
     "output_type": "stream",
     "text": [
      "[nltk_data] Downloading package punkt to /Users/mh_kang/nltk_data...\n",
      "[nltk_data]   Unzipping tokenizers/punkt.zip.\n"
     ]
    },
    {
     "data": {
      "text/plain": [
       "True"
      ]
     },
     "execution_count": 7,
     "metadata": {},
     "output_type": "execute_result"
    }
   ],
   "source": [
    "#nltk 안깔려 있으면 받기\n",
    "import nltk\n",
    "nltk.download('punkt')"
   ]
  },
  {
   "cell_type": "code",
   "execution_count": 9,
   "id": "b5968b19",
   "metadata": {},
   "outputs": [
    {
     "name": "stderr",
     "output_type": "stream",
     "text": [
      "[nltk_data] Downloading package averaged_perceptron_tagger to\n",
      "[nltk_data]     /Users/mh_kang/nltk_data...\n",
      "[nltk_data]   Unzipping taggers/averaged_perceptron_tagger.zip.\n"
     ]
    },
    {
     "data": {
      "text/plain": [
       "True"
      ]
     },
     "execution_count": 9,
     "metadata": {},
     "output_type": "execute_result"
    }
   ],
   "source": [
    "nltk.download('averaged_perceptron_tagger')"
   ]
  },
  {
   "cell_type": "code",
   "execution_count": 10,
   "id": "6ec06e7c",
   "metadata": {},
   "outputs": [
    {
     "name": "stderr",
     "output_type": "stream",
     "text": [
      "100%|███████████████████████████████████████████████████████████████████████████████████████████████████████| 8939/8939 [00:11<00:00, 772.86it/s]\n"
     ]
    }
   ],
   "source": [
    "from tqdm import tqdm\n",
    "import nltk\n",
    "\n",
    "pchat_train_raw_dpr = []\n",
    "\n",
    "for i, data in tqdm(enumerate(train_persona), total = len(train_persona)):\n",
    "    persona = data['persona_info']\n",
    "\n",
    "    for j, p_sent in enumerate(persona):\n",
    "        dialogid = 'pchat' + \"_train_\" + str(i) + \"_\" + \"persona\" + str(j)\n",
    "        p_keys = [word for (word, pos) in nltk.pos_tag(nltk.word_tokenize(p_sent)) if pos[0] == 'N' or pos[0] == 'V']   \n",
    "        question = ' '.join(p_keys)\n",
    "        \n",
    "        result = {'dataset': dialogid, 'question': question, 'answers': p_sent}\n",
    "\n",
    "        positive_ctxs = [{'title': \"\", 'text': p_sent, \"passage_id\": \"\"}]\n",
    "        result['positive_ctxs'] = positive_ctxs\n",
    "\n",
    "        pchat_train_raw_dpr.append(result)"
   ]
  },
  {
   "cell_type": "code",
   "execution_count": 13,
   "id": "15420d44",
   "metadata": {},
   "outputs": [
    {
     "data": {
      "text/plain": [
       "{'dataset': 'pchat_train_0_persona3',\n",
       " 'question': 'i like get dressed',\n",
       " 'answers': 'i like to get dressed up.',\n",
       " 'positive_ctxs': [{'title': '',\n",
       "   'text': 'i like to get dressed up.',\n",
       "   'passage_id': ''}]}"
      ]
     },
     "execution_count": 13,
     "metadata": {},
     "output_type": "execute_result"
    }
   ],
   "source": [
    "pchat_train_raw_dpr[3]"
   ]
  },
  {
   "cell_type": "code",
   "execution_count": null,
   "id": "8fa8b7ea",
   "metadata": {},
   "outputs": [],
   "source": [
    "pchat_valid_raw_dpr = []\n",
    "\n",
    "for i, data in tqdm(enumerate(valid_persona), total = len(valid_persona)):\n",
    "    persona = data['persona_info']\n",
    "\n",
    "    for j, p_sent in enumerate(persona):\n",
    "        dialogid = 'pchat' + \"_train_\" + str(i) + \"_\" + \"persona\" + str(j)\n",
    "        p_keys = [word for (word, pos) in nltk.pos_tag(nltk.word_tokenize(p_sent)) if pos[0] == 'N' or pos[0] == 'V']   \n",
    "        question = ' '.join(p_keys)\n",
    "        \n",
    "        result = {'dataset': dialogid, 'question': question, 'answers': p_sent}\n",
    "\n",
    "        positive_ctxs = [{'title': \"\", 'text': p_sent, \"passage_id\": \"\"}]\n",
    "        result['positive_ctxs'] = positive_ctxs\n",
    "\n",
    "        pchat_valid_raw_dpr.append(result)"
   ]
  },
  {
   "cell_type": "code",
   "execution_count": null,
   "id": "9493c239",
   "metadata": {},
   "outputs": [],
   "source": []
  }
 ],
 "metadata": {
  "kernelspec": {
   "display_name": "torch",
   "language": "python",
   "name": "torch"
  },
  "language_info": {
   "codemirror_mode": {
    "name": "ipython",
    "version": 3
   },
   "file_extension": ".py",
   "mimetype": "text/x-python",
   "name": "python",
   "nbconvert_exporter": "python",
   "pygments_lexer": "ipython3",
   "version": "3.8.15"
  }
 },
 "nbformat": 4,
 "nbformat_minor": 5
}
